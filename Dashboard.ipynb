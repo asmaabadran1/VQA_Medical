{
 "cells": [
  {
   "cell_type": "code",
   "execution_count": 1,
   "metadata": {},
   "outputs": [
    {
     "name": "stderr",
     "output_type": "stream",
     "text": [
      "2023-05-31 20:22:38.887851: I tensorflow/tsl/cuda/cudart_stub.cc:28] Could not find cuda drivers on your machine, GPU will not be used.\n",
      "2023-05-31 20:22:39.059335: I tensorflow/tsl/cuda/cudart_stub.cc:28] Could not find cuda drivers on your machine, GPU will not be used.\n",
      "2023-05-31 20:22:39.061732: I tensorflow/core/platform/cpu_feature_guard.cc:182] This TensorFlow binary is optimized to use available CPU instructions in performance-critical operations.\n",
      "To enable the following instructions: AVX2 FMA, in other operations, rebuild TensorFlow with the appropriate compiler flags.\n",
      "2023-05-31 20:22:40.799173: W tensorflow/compiler/tf2tensorrt/utils/py_utils.cc:38] TF-TRT Warning: Could not find TensorRT\n"
     ]
    }
   ],
   "source": [
    "import nltk\n",
    "from nltk.tokenize import word_tokenize\n",
    "import gensim\n",
    "from tensorflow.keras import Model\n",
    "import re\n",
    "from io import BytesIO \n",
    "from PIL import Image"
   ]
  },
  {
   "cell_type": "code",
   "execution_count": 2,
   "metadata": {},
   "outputs": [],
   "source": [
    "import plotly.express as ex\n",
    "import numpy as np\n",
    "from dash import Dash,html,dcc,Input, Output,State\n",
    "from jupyter_dash import JupyterDash\n",
    "import pandas as pd\n",
    "import dash_bootstrap_components as dbc\n",
    "import dash_daq as daq\n",
    "from dash.exceptions import PreventUpdate\n",
    "import matplotlib.pyplot as plt\n",
    "import plotly.io as pio\n",
    "import base64\n",
    "import io\n",
    "import tensorflow as tf"
   ]
  },
  {
   "attachments": {},
   "cell_type": "markdown",
   "metadata": {},
   "source": [
    "# Read and prepare used data and models"
   ]
  },
  {
   "cell_type": "code",
   "execution_count": 3,
   "metadata": {},
   "outputs": [],
   "source": [
    "# dictionary for output map\n",
    "import json\n",
    "# Read data from a JSON file\n",
    "with open('ModelandFilesUsed/label_dict.json', 'r') as f:\n",
    "    data = json.load(f)\n",
    "# Convert the data to a dictionary\n",
    "label_dict = dict(data)"
   ]
  },
  {
   "cell_type": "code",
   "execution_count": 4,
   "metadata": {},
   "outputs": [],
   "source": [
    "# read ubload image\n",
    "img = \"uploadImage.png\"\n",
    "with open(img, 'rb') as f:\n",
    "    img_data = f.read()\n",
    "img_card_base64 = base64.b64encode(img_data).decode('utf-8')"
   ]
  },
  {
   "cell_type": "code",
   "execution_count": 5,
   "metadata": {},
   "outputs": [],
   "source": [
    "model_w2v = gensim.models.KeyedVectors.load_word2vec_format(\"ModelandFilesUsed/GoogleNews-vectors-negative300.bin.gz\", binary=True) "
   ]
  },
  {
   "cell_type": "code",
   "execution_count": 6,
   "metadata": {},
   "outputs": [],
   "source": [
    "# model for extract feature from images\n",
    "image_feature_extraction = tf.keras.applications.VGG16(include_top=False,weights='imagenet',input_shape=(448,448,3))\n",
    "last_layer = image_feature_extraction.layers[-1].output   # Last layer has an output layer of (14,14,512)\n",
    "image_feature_extraction = Model(image_feature_extraction.input,last_layer)\n",
    "image_feature_extraction.trainable = False\n",
    "\n",
    "'''  The below model will convert (196,512) to (21,300) (i.e same as the dimension of word embedding)  '''\n",
    "dimen_red = tf.keras.Sequential()  # Use for converting (196,512) -> (21,300)\n",
    "dimen_red.add(tf.keras.layers.Conv2D(300,kernel_size=(1,1),input_shape= (14,14,512)))\n",
    "dimen_red.add(tf.keras.layers.Reshape((196,300)))\n",
    "dimen_red.add(tf.keras.layers.Permute((2,1)))  # Reshaping about the axis, useful for applying the dense network\n",
    "dimen_red.add(tf.keras.layers.Dense(11))\n",
    "dimen_red.add(tf.keras.layers.Permute((2,1)))  # Reshaping about the axis, useful for applying the dense network"
   ]
  },
  {
   "attachments": {},
   "cell_type": "markdown",
   "metadata": {},
   "source": [
    "# Help function"
   ]
  },
  {
   "cell_type": "code",
   "execution_count": 7,
   "metadata": {},
   "outputs": [],
   "source": [
    "def tokenize(sentence):\n",
    "    ''' Perform Tokenization '''\n",
    "    return [i for i in re.split(r\"([-.\\\"',:? !$#@~()*&\\^%;/\\\\+<>\\n=])\", sentence) if i!='' and i!=' ' and i!='\\n']"
   ]
  },
  {
   "cell_type": "code",
   "execution_count": 8,
   "metadata": {},
   "outputs": [],
   "source": [
    "# get answer from index\n",
    "def get_key(val):\n",
    "    for key, value in label_dict.items():\n",
    "        if val == value:\n",
    "            return key"
   ]
  },
  {
   "cell_type": "code",
   "execution_count": 9,
   "metadata": {},
   "outputs": [],
   "source": [
    "def get_text_embeding_matrix(text):\n",
    "  embedding_matrix = np.zeros((11, 300))\n",
    "  text = re.sub(r'\\?$', '', text)\n",
    "  tokenized_text = tokenize(text)\n",
    "  for i, word in enumerate(tokenized_text):\n",
    "    try:\n",
    "      embedding_matrix[i] = model_w2v[word]\n",
    "    except:\n",
    "      pass\n",
    "  return embedding_matrix"
   ]
  },
  {
   "cell_type": "code",
   "execution_count": 10,
   "metadata": {},
   "outputs": [],
   "source": [
    "def read_images_as_array():\n",
    "  with open('data.txt', encoding='UTF8') as f:\n",
    "        contents = f.read()\n",
    "  decoded_data =base64.b64decode(str(contents).split(',')[1])\n",
    "  image = Image.open(BytesIO(decoded_data))\n",
    "  image = image.resize((448,448))\n",
    "  image = np.array(image)  / 225\n",
    "  image = np.expand_dims(image, axis=0)\n",
    "  return image"
   ]
  },
  {
   "cell_type": "code",
   "execution_count": 11,
   "metadata": {},
   "outputs": [],
   "source": [
    "def get_image_embedding_matrix():\n",
    "  image_array = read_images_as_array()\n",
    "  image_feature_from_vgg = image_feature_extraction(image_array)\n",
    "  print(image_feature_from_vgg.shape)\n",
    "  image_reduced = dimen_red(image_feature_from_vgg) \n",
    "  image_reduced = image_reduced.numpy().reshape(-1, image_reduced.shape[-1])\n",
    "  return image_reduced"
   ]
  },
  {
   "cell_type": "code",
   "execution_count": 12,
   "metadata": {},
   "outputs": [],
   "source": [
    "def predict_answer(question):\n",
    "    # load main model\n",
    "    model = tf.keras.models.load_model('ModelandFilesUsed/moreData_model.h5')\n",
    "\n",
    "    \n",
    "    image = read_images_as_array()\n",
    "    question_vec = get_text_embeding_matrix(question)\n",
    "    \n",
    "    \n",
    "    image_embedding = dimen_red(image_feature_extraction(image)).numpy().reshape(-1, 11, 300)\n",
    "    question_embedding = np.array([question_vec])\n",
    "\n",
    "    \n",
    "    prediction = model.predict([image_embedding, question_embedding])\n",
    "\n",
    "  \n",
    "    predicted_index = np.argmax(prediction)\n",
    "    predicted_answer = get_key(predicted_index)\n",
    "    return predicted_answer"
   ]
  },
  {
   "attachments": {},
   "cell_type": "markdown",
   "metadata": {},
   "source": [
    "# Main Dashboard"
   ]
  },
  {
   "cell_type": "code",
   "execution_count": 13,
   "metadata": {},
   "outputs": [],
   "source": [
    "app=JupyterDash(external_stylesheets=[dbc.themes.LUMEN],suppress_callback_exceptions=True)"
   ]
  },
  {
   "cell_type": "code",
   "execution_count": 14,
   "metadata": {},
   "outputs": [],
   "source": [
    "# card for upload image\n",
    "card_1 = dbc.Card(\n",
    "    dbc.CardBody(\n",
    "        [\n",
    "            html.H3(html.B(\"upload Image\"),style={'color': '#068DA9', 'fontSize': 25, \n",
    "                                        'textAlign':'center','font-family':'Courier New, monospace'}),\n",
    "            \n",
    "       \n",
    "            \n",
    "             dcc.Upload(\n",
    "                        id='upload-image',\n",
    "                        children=html.Div([\n",
    "                            'Drag and Drop or ',\n",
    "                            html.A('Select Files')\n",
    "                                        ]),\n",
    "                                            style={\n",
    "                                                'color': '#068DA9', 'fontSize': 25, \n",
    "                                                'font-family':'Courier New, monospace',\n",
    "                                                'width': '90%',\n",
    "                                                'height': '50px',\n",
    "                                                'lineHeight': '60px',\n",
    "                                                'borderWidth': '1px',\n",
    "                                                'borderStyle': 'dashed',\n",
    "                                                'borderRadius': '5px',\n",
    "                                                'textAlign': 'center',\n",
    "                                                'margin':'7px'\n",
    "                                                },\n",
    "                                            ),\n",
    "            html.Div(id=\"uploaded_img\")\n",
    "            \n",
    "       \n",
    "       ]),style={\"width\": \"100%\",\n",
    "           \"background-color\": \"rgba(255, 255, 255, 0.2)\",\n",
    "           'box-shadow': '0 2px 4px 0 rgba(0,0,0,0.2)'},\n",
    ")"
   ]
  },
  {
   "cell_type": "code",
   "execution_count": 15,
   "metadata": {},
   "outputs": [],
   "source": [
    "# card for prediction\n",
    "card_2 = dbc.Card(\n",
    "    dbc.CardBody(\n",
    "        [\n",
    "            dcc.Input(id='input-text', type='text', placeholder='Enter question here...',style={'color': '#116D6E', 'fontSize': 25, \n",
    "                                                'font-family':'Courier New, monospace',\n",
    "                                                'width': '90%',\n",
    "                                                'height': '50px',\n",
    "                                                'lineHeight': '60px',\n",
    "                                                'borderWidth': '1px',\n",
    "                                                'borderRadius': '5px',\n",
    "                                                'textAlign': 'center',\n",
    "                                                'margin':'15px'}),\n",
    "            html.Label('Predicted answer.', id=\"show_answer\",style={'color': '#068DA9', 'borderWidth': '1px',\n",
    "                                                'borderStyle': 'dashed',\n",
    "                                                'borderRadius': '5px',\n",
    "                                                'textAlign': 'center','fontSize': 25, 'width': '90%',\n",
    "                                                'font-family':'Courier New, monospace','margin':'15px'}),\n",
    "            html.Button('Predict', id='submit-button', n_clicks=0, style={\n",
    "                                                'color': '#ffffff',\n",
    "                                                'backgroundColor': '#068DA9',\n",
    "                                                'fontSize': 25, \n",
    "                                                'font-family':'Courier New, monospace',\n",
    "                                                'width': '250px',\n",
    "                                                'height': '50px',\n",
    "                                                'lineHeight': '60px',\n",
    "                                                'borderWidth': '1px',\n",
    "                                                'borderRadius': '5px',\n",
    "                                                'textAlign': 'center',\n",
    "                                                'margin':'15px'\n",
    "                                                })\n",
    "        ]\n",
    "    ),\n",
    "    style={\"width\": \"100%\",\n",
    "           \"background-color\": \"rgba(255, 255, 255, 0.2)\",\n",
    "           'box-shadow': '0 2px 4px 0 rgba(0,0,0,0.2)',\n",
    "           'justify-content': 'center',\n",
    "           'align-items': 'center',\n",
    "        },\n",
    ")"
   ]
  },
  {
   "cell_type": "code",
   "execution_count": 16,
   "metadata": {},
   "outputs": [],
   "source": [
    "app.layout=html.Div(children=[\n",
    "        html.Div(\n",
    "            children=[\n",
    "                # card for tittle \n",
    "                dbc.Card(\n",
    "                    dbc.CardBody(\n",
    "                        [\n",
    "                           html.H1(html.B(\"Visual Question Answering\"),\n",
    "                                    style={'color': '#068DA9', 'fontSize': 25, \n",
    "                                        'textAlign':'center','font-family':'Courier New, monospace',\n",
    "                                         }),             \n",
    "                        ]\n",
    "                    ),style={'width': '100%', \n",
    "                             'height': '10%',\n",
    "                             \"background-color\": \"rgba(255, 255, 255, 0.2)\",\n",
    "                             'box-shadow': '0 2px 4px 0 rgba(0,0,0,0.2)'}),\n",
    "                \n",
    "                \n",
    "                # two cards for image and prediction\n",
    "                dbc.Row(\n",
    "                        [\n",
    "                            dbc.Col(card_1,width=6),\n",
    "                            dbc.Col([card_2,\n",
    "                                     html.Img(src=f'data:image/png;base64,{img_card_base64}',style={\"object-fit\": \"cover\",\n",
    "                                     \"max-width\": \"90%\",\n",
    "                                     \"max-height\": \"90%\",\n",
    "                                     \"width\":\"340\", \n",
    "                                     \"height\":\"160\",\n",
    "                                     \"border-radius\":\"20px\",\n",
    "                                     \"margin-left\":\"20px\",\n",
    "                                     \"margin-top\":\"20px\",\n",
    "                                     \"margin-right\":\"20px\"})\n",
    "                                    ],width=6),\n",
    "                        ],\n",
    "                        style={\n",
    "                                'width': '100%',  # Set the width to 100%\n",
    "                                'height': '100%',  # Set the height to 100%\n",
    "                                'margin-top' : '20px',\n",
    "                                'margin-left' : '5px',\n",
    "                        }\n",
    "                    ),\n",
    "                \n",
    "                ],\n",
    "            style={\n",
    "                'backgroundColor': '#C4DFDF',  # Set the background color\n",
    "                'padding': '20px' , # Add some padding\n",
    "                'width': '100%',  # Set the width to 100%\n",
    "                'height': '100%',  # Set the height to 100%\n",
    "                'position': 'absolute',  # Set the position to absolute\n",
    "                'top': 0,  # Position the top edge at the top of the page\n",
    "                'left': 0,\n",
    "                'overflowY': 'scroll'\n",
    "            }),\n",
    "    \n",
    "])"
   ]
  },
  {
   "attachments": {},
   "cell_type": "markdown",
   "metadata": {},
   "source": [
    "# Callbacks"
   ]
  },
  {
   "cell_type": "code",
   "execution_count": 17,
   "metadata": {},
   "outputs": [],
   "source": [
    "def parse_contents(contents, filename):\n",
    "    with open('data.txt', 'w') as f:\n",
    "        f.write(contents)\n",
    "    return html.Div([\n",
    "        # HTML images accept base64 encoded strings in the same format\n",
    "        # that is supplied by the upload\n",
    "        html.Img(src=contents,style={\"object-fit\": \"cover\",\n",
    "                                     \"max-width\": \"90%\",\n",
    "                                     \"max-height\": \"90%\",\n",
    "                                     \"width\":\"340\", \n",
    "                                     \"height\":\"160\",\n",
    "                                     \"border-radius\":\"20px\",\n",
    "                                     \"margin-left\":\"20px\",\n",
    "                                     \"margin-top\":\"20px\",\n",
    "                                     \"margin-right\":\"20px\"})        \n",
    "        ])"
   ]
  },
  {
   "cell_type": "code",
   "execution_count": 18,
   "metadata": {},
   "outputs": [],
   "source": [
    "@app.callback(Output('uploaded_img', 'children'),\n",
    "              Input('upload-image', 'contents'),\n",
    "              State('upload-image', 'filename'))\n",
    "def update_output_image(list_of_contents, list_of_names):\n",
    "    if list_of_contents is not None:\n",
    "        children = parse_contents(list_of_contents, list_of_names)\n",
    "        return children \n",
    "    return \"\""
   ]
  },
  {
   "cell_type": "code",
   "execution_count": 19,
   "metadata": {},
   "outputs": [],
   "source": [
    "@app.callback(\n",
    "              Output(\"show_answer\",'children'),\n",
    "              Input(\"submit-button\",\"n_clicks\"),\n",
    "              State(\"input-text\",\"value\"))\n",
    "def update_output_image(n_clicks,value):\n",
    "    answer = \" \"\n",
    "    if value:\n",
    "        answer = predict_answer(str(value)) \n",
    "    return answer"
   ]
  },
  {
   "cell_type": "code",
   "execution_count": 20,
   "metadata": {},
   "outputs": [
    {
     "name": "stdout",
     "output_type": "stream",
     "text": [
      "Dash is running on http://127.0.0.1:8050/\n",
      "\n",
      "Dash app running on http://127.0.0.1:8050/\n"
     ]
    }
   ],
   "source": [
    "if __name__ == '__main__':\n",
    "    app.run_server(debug=True)"
   ]
  }
 ],
 "metadata": {
  "kernelspec": {
   "display_name": "base",
   "language": "python",
   "name": "python3"
  },
  "language_info": {
   "codemirror_mode": {
    "name": "ipython",
    "version": 3
   },
   "file_extension": ".py",
   "mimetype": "text/x-python",
   "name": "python",
   "nbconvert_exporter": "python",
   "pygments_lexer": "ipython3",
   "version": "3.10.9"
  },
  "orig_nbformat": 4
 },
 "nbformat": 4,
 "nbformat_minor": 2
}
